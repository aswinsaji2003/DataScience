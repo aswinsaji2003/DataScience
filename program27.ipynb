{
  "nbformat": 4,
  "nbformat_minor": 0,
  "metadata": {
    "colab": {
      "provenance": []
    },
    "kernelspec": {
      "name": "python3",
      "display_name": "Python 3"
    },
    "language_info": {
      "name": "python"
    }
  },
  "cells": [
    {
      "cell_type": "code",
      "execution_count": 4,
      "metadata": {
        "colab": {
          "base_uri": "https://localhost:8080/"
        },
        "id": "T2KxuzwEwBfJ",
        "outputId": "c6e7c54c-a1ef-4984-a9c6-f0063f7b2aec"
      },
      "outputs": [
        {
          "output_type": "stream",
          "name": "stdout",
          "text": [
            "     Name Qualification\n",
            "0     Jai           Msc\n",
            "1  Princi            MA\n",
            "2  Gaurav           MCA\n",
            "3    Anuj           Phd\n"
          ]
        }
      ],
      "source": [
        "data = {'Name':['Jai', 'Princi', 'Gaurav', 'Anuj'],\n",
        "'Age':[27, 24, 22, 32],\n",
        "'Address':['Delhi', 'Kanpur', 'Allahabad', 'Kannauj'],\n",
        "'Qualification':['Msc', 'MA', 'MCA', 'Phd']}\n",
        "df = pd.DataFrame(data)\n",
        "print(df[['Name', 'Qualification']])"
      ]
    }
  ]
}