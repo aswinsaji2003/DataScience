{
  "nbformat": 4,
  "nbformat_minor": 0,
  "metadata": {
    "colab": {
      "provenance": [],
      "toc_visible": true
    },
    "kernelspec": {
      "name": "python3",
      "display_name": "Python 3"
    },
    "language_info": {
      "name": "python"
    }
  },
  "cells": [
    {
      "cell_type": "code",
      "execution_count": 3,
      "metadata": {
        "colab": {
          "base_uri": "https://localhost:8080/"
        },
        "id": "bRGgeZFMLKHj",
        "outputId": "0ca08860-c60b-401b-9c96-e312dacf3476"
      },
      "outputs": [
        {
          "output_type": "stream",
          "name": "stdout",
          "text": [
            "Addition: [5 7 9]\n",
            "Subtraction: [-3 -3 -3]\n",
            "Multiplication: [ 4 10 18]\n",
            "Division: [0.25 0.4  0.5 ]\n"
          ]
        }
      ],
      "source": [
        "import numpy as np\n",
        "# Creating arrays\n",
        "a = np.array([1, 2, 3])\n",
        "b = np.array([4, 5, 6])\n",
        "# Element-wise addition\n",
        "add_result = np.add(a, b)\n",
        "print(\"Addition:\", add_result)\n",
        "# Element-wise subtraction\n",
        "sub_result = np.subtract(a, b)\n",
        "print(\"Subtraction:\", sub_result)\n",
        "# Element-wise multiplication\n",
        "mul_result = np.multiply(a, b)\n",
        "print(\"Multiplication:\", mul_result)\n",
        "# Element-wise division\n",
        "div_result = np.divide(a, b)\n",
        "print(\"Division:\", div_result)"
      ]
    }
  ]
}