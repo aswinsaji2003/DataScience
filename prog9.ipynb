{
  "nbformat": 4,
  "nbformat_minor": 0,
  "metadata": {
    "colab": {
      "provenance": [],
      "toc_visible": true
    },
    "kernelspec": {
      "name": "python3",
      "display_name": "Python 3"
    },
    "language_info": {
      "name": "python"
    }
  },
  "cells": [
    {
      "cell_type": "code",
      "execution_count": 4,
      "metadata": {
        "colab": {
          "base_uri": "https://localhost:8080/"
        },
        "id": "bRGgeZFMLKHj",
        "outputId": "fc984435-e4a9-42a4-91b2-0db72aa2f870"
      },
      "outputs": [
        {
          "output_type": "stream",
          "name": "stdout",
          "text": [
            "Original array: [ 0  1  2  3  4  5  6  7  8  9 10 11]\n",
            "Reshaped to 3x4:\n",
            " [[ 0  1  2  3]\n",
            " [ 4  5  6  7]\n",
            " [ 8  9 10 11]]\n",
            "Reshaped to 2x3x2:\n",
            " [[[ 0  1]\n",
            "  [ 2  3]\n",
            "  [ 4  5]]\n",
            "\n",
            " [[ 6  7]\n",
            "  [ 8  9]\n",
            "  [10 11]]]\n"
          ]
        }
      ],
      "source": [
        "import numpy as np\n",
        "# Creating a 2D array\n",
        "array_2d = np.array([[1, 2, 3], [4, 5, 6], [7, 8, 9]])\n",
        "print(\"2D Array:\\n\", array_2d)\n",
        "# Accessing element at (1, 2)\n",
        "element = array_2d[1, 2]\n",
        "print(\"Element at (1, 2):\", element)\n",
        "# Slicing a subarray (rows 1 to 2, columns 0 to 1)\n",
        "subarray = array_2d[1:3, 0:2]\n",
        "print(\"Sliced subarray:\\n\", subarray)\n",
        "# Accessing a column (all rows, column 1)\n",
        "column = array_2d[:, 1]\n",
        "print(\"Column 1:\", column)"
      ]
    }
  ]
}