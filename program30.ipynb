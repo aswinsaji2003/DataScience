{
  "nbformat": 4,
  "nbformat_minor": 0,
  "metadata": {
    "colab": {
      "provenance": []
    },
    "kernelspec": {
      "name": "python3",
      "display_name": "Python 3"
    },
    "language_info": {
      "name": "python"
    }
  },
  "cells": [
    {
      "cell_type": "code",
      "execution_count": 14,
      "metadata": {
        "colab": {
          "base_uri": "https://localhost:8080/"
        },
        "id": "Wmtl5xoou6oD",
        "outputId": "c5f45438-2ce0-48a7-ddb3-2a75c715642d"
      },
      "outputs": [
        {
          "output_type": "stream",
          "name": "stdout",
          "text": [
            "0    10\n",
            "1    15\n",
            "2    18\n",
            "3    22\n",
            "dtype: int64\n",
            "first     a\n",
            "second    b\n",
            "third     c\n",
            "fourth    d\n",
            "dtype: object\n",
            "0    50\n",
            "1    50\n",
            "2    50\n",
            "3    50\n",
            "4    50\n",
            "dtype: int64\n",
            "Name     Deepthi\n",
            "Class        MCA\n",
            "year        2014\n",
            "dtype: object\n",
            "   List1  List2  List3\n",
            "0     10     20     30\n",
            "1     15     20     35\n",
            "2     18     20     38\n",
            "3     22     20     42\n"
          ]
        }
      ],
      "source": [
        "import pandas as pd\n",
        "import numpy as np\n",
        "arr=np.array([10,15,18,22])\n",
        "s = pd.Series(arr)\n",
        "print(s)\n",
        "\n",
        "arr=np.array(['a','b','c','d'])\n",
        "s=pd.Series(arr, index=['first','second','third','fourth'])\n",
        "print(s)\n",
        "\n",
        "s=pd.Series(50, index=[0, 1, 2, 3, 4])\n",
        "print (s)\n",
        "\n",
        "d={'Name': 'Deepthi', 'Class' : 'MCA', 'year' : 2014}\n",
        "s=pd.Series(d)\n",
        "print(s)\n",
        "\n",
        "\n",
        "s = pd.Series([10,15,18,22])\n",
        "df=pd.DataFrame(s)\n",
        "df.columns=['List1']\n",
        "df['List2']=20\n",
        "df['List3']=df['List1']+df['List2']\n",
        "print(df)"
      ]
    }
  ]
}