{
  "nbformat": 4,
  "nbformat_minor": 0,
  "metadata": {
    "colab": {
      "provenance": []
    },
    "kernelspec": {
      "name": "python3",
      "display_name": "Python 3"
    },
    "language_info": {
      "name": "python"
    }
  },
  "cells": [
    {
      "cell_type": "code",
      "execution_count": 9,
      "metadata": {
        "colab": {
          "base_uri": "https://localhost:8080/"
        },
        "id": "Wmtl5xoou6oD",
        "outputId": "01104e58-8f73-4e97-a226-86d688539625"
      },
      "outputs": [
        {
          "output_type": "stream",
          "name": "stdout",
          "text": [
            "<class 'pandas.core.frame.DataFrame'>\n",
            "RangeIndex: 3 entries, 0 to 2\n",
            "Data columns (total 9 columns):\n",
            " #   Column         Non-Null Count  Dtype         \n",
            "---  ------         --------------  -----         \n",
            " 0   EMPLOYEE ID    3 non-null      int64         \n",
            " 1   NAME           3 non-null      object        \n",
            " 2   EMAIL          3 non-null      object        \n",
            " 3   PH_NO          3 non-null      int64         \n",
            " 4   HIRE_DATE      3 non-null      datetime64[ns]\n",
            " 5   DESIGNATION    3 non-null      object        \n",
            " 6   SALARY         3 non-null      int64         \n",
            " 7   MANAGER_ID     3 non-null      int64         \n",
            " 8   DEPARTMENT_ID  3 non-null      int64         \n",
            "dtypes: datetime64[ns](1), int64(5), object(3)\n",
            "memory usage: 348.0+ bytes\n"
          ]
        }
      ],
      "source": [
        "import numpy as np\n",
        "import pandas as pd\n",
        "data = pd.read_excel(\"/content/Book2.xlsx\")\n",
        "data.info()"
      ]
    }
  ]
}