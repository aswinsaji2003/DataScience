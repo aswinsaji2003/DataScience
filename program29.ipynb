{
  "nbformat": 4,
  "nbformat_minor": 0,
  "metadata": {
    "colab": {
      "provenance": []
    },
    "kernelspec": {
      "name": "python3",
      "display_name": "Python 3"
    },
    "language_info": {
      "name": "python"
    }
  },
  "cells": [
    {
      "cell_type": "code",
      "execution_count": 11,
      "metadata": {
        "colab": {
          "base_uri": "https://localhost:8080/"
        },
        "id": "Wmtl5xoou6oD",
        "outputId": "78a9d05a-f5b9-47e1-e4cb-04195506d426"
      },
      "outputs": [
        {
          "output_type": "stream",
          "name": "stdout",
          "text": [
            "<class 'pandas.core.frame.DataFrame'>\n",
            "RangeIndex: 3 entries, 0 to 2\n",
            "Data columns (total 9 columns):\n",
            " #   Column         Non-Null Count  Dtype         \n",
            "---  ------         --------------  -----         \n",
            " 0   EMPLOYEE ID    3 non-null      int64         \n",
            " 1   NAME           3 non-null      object        \n",
            " 2   EMAIL          3 non-null      object        \n",
            " 3   PH_NO          3 non-null      int64         \n",
            " 4   HIRE_DATE      3 non-null      datetime64[ns]\n",
            " 5   DESIGNATION    3 non-null      object        \n",
            " 6   SALARY         3 non-null      int64         \n",
            " 7   MANAGER_ID     3 non-null      int64         \n",
            " 8   DEPARTMENT_ID  3 non-null      int64         \n",
            "dtypes: datetime64[ns](1), int64(5), object(3)\n",
            "memory usage: 348.0+ bytes\n",
            "   EMPLOYEE ID    NAME             EMAIL        PH_NO  HIRE_DATE DESIGNATION  \\\n",
            "0            1  Afimol     afi@gmail.com  98765432198 2025-09-09      doctor   \n",
            "1            2   Aswin   aswin@gmail.com  87654321987 2025-09-08    engineer   \n",
            "2            3  Akasha  akasha@gmail.com  76543210987 2025-09-07     manager   \n",
            "\n",
            "   SALARY  MANAGER_ID  DEPARTMENT_ID  \n",
            "0  300000         101            201  \n",
            "1  250000         102            202  \n",
            "2   20000         103            203  \n"
          ]
        }
      ],
      "source": [
        "import numpy as np\n",
        "import pandas as pd\n",
        "data = pd.read_excel(\"/content/Book2.xlsx\")\n",
        "data.info()\n",
        "data.head()\n",
        "first = data.head()\n",
        "print(first)"
      ]
    }
  ]
}