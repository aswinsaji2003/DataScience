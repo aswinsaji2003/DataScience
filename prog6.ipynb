{
  "nbformat": 4,
  "nbformat_minor": 0,
  "metadata": {
    "colab": {
      "provenance": [],
      "toc_visible": true
    },
    "kernelspec": {
      "name": "python3",
      "display_name": "Python 3"
    },
    "language_info": {
      "name": "python"
    }
  },
  "cells": [
    {
      "cell_type": "code",
      "execution_count": 2,
      "metadata": {
        "colab": {
          "base_uri": "https://localhost:8080/"
        },
        "id": "bRGgeZFMLKHj",
        "outputId": "769cb80d-9383-4677-94d6-dfe6ad5af5df"
      },
      "outputs": [
        {
          "output_type": "stream",
          "name": "stdout",
          "text": [
            "Array from list: [1 2 3 4 5]\n",
            "Array with range: [0 1 2 3 4 5 6 7 8 9]\n",
            "Array of zeros:\n",
            " [[0. 0. 0.]\n",
            " [0. 0. 0.]\n",
            " [0. 0. 0.]]\n",
            "Array of ones:\n",
            " [[1. 1. 1. 1. 1.]\n",
            " [1. 1. 1. 1. 1.]]\n"
          ]
        }
      ],
      "source": [
        "import numpy as np\n",
        "# Creating an array from a list\n",
        "array_from_list = np.array([1, 2, 3, 4, 5])\n",
        "print(\"Array from list:\", array_from_list)\n",
        "# Creating an array with a range of values\n",
        "array_with_range = np.arange(10)\n",
        "print(\"Array with range:\", array_with_range)\n",
        "# Creating an array of zeros\n",
        "zeros_array = np.zeros((3, 3))\n",
        "print(\"Array of zeros:\\n\", zeros_array)\n",
        "# Creating an array of ones\n",
        "ones_array = np.ones((2, 5))\n",
        "print(\"Array of ones:\\n\", ones_array)\n"
      ]
    }
  ]
}